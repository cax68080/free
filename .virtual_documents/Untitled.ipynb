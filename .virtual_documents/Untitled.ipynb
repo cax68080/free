





#Noneオブジェクトのデータ型
a = None
print(a)
print(type(a))


# Noneと文字列が結合できるか
a + "str"


# Noneと数字を計算できるか
a + 1


# None動詞を連結できるか
b = None
a + b


list_c = []
list_c.append(a)
print(list_c)
list_c.append(b)
print(list_c)
print(len(list_c))


d = set()
print(type(d))
d.add(None)
print(d)
d.add(None)
print(d)





class Example:
    def __eq__(self, other):
        # すべての比較をTrueとする
        return True


x =  Example()
if x == None:
    print("xはNoneです")
else:
    print("xはNoneではありません")
print(x)


y =  Example()
if y is None:
    print("yはNoneです")
else:
    print("yはNoneではありません")
print(y)


if not None:
    print("True")
else:
    print("False")



l = [0,3,8,6,2]
result = l.sort()
print(result)
print(l)



