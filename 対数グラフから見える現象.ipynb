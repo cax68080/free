{
 "cells": [
  {
   "cell_type": "markdown",
   "id": "d417749f",
   "metadata": {},
   "source": [
    "## 対数表を求める"
   ]
  },
  {
   "cell_type": "code",
   "execution_count": 2,
   "id": "adf361ca",
   "metadata": {},
   "outputs": [
    {
     "name": "stdout",
     "output_type": "stream",
     "text": [
      "          0.0       0.1       0.2       0.3       0.4       0.5       0.6  \\\n",
      "1.0       0.0  0.041393  0.079181  0.113943  0.146128  0.176091   0.20412   \n",
      "2.0   0.30103  0.322219  0.342423  0.361728  0.380211   0.39794  0.414973   \n",
      "3.0  0.477121  0.491362   0.50515  0.518514  0.531479  0.544068  0.556303   \n",
      "4.0   0.60206  0.612784  0.623249  0.633468  0.643453  0.653213  0.662758   \n",
      "5.0   0.69897   0.70757  0.716003  0.724276  0.732394  0.740363  0.748188   \n",
      "6.0  0.778151   0.78533  0.792392  0.799341   0.80618  0.812913  0.819544   \n",
      "7.0  0.845098  0.851258  0.857332  0.863323  0.869232  0.875061  0.880814   \n",
      "8.0   0.90309  0.908485  0.913814  0.919078  0.924279  0.929419  0.934498   \n",
      "9.0  0.954243  0.959041  0.963788  0.968483  0.973128  0.977724  0.982271   \n",
      "\n",
      "          0.7       0.8       0.9  \n",
      "1.0  0.230449  0.255273  0.278754  \n",
      "2.0  0.431364  0.447158  0.462398  \n",
      "3.0  0.568202  0.579784  0.591065  \n",
      "4.0  0.672098  0.681241  0.690196  \n",
      "5.0  0.755875  0.763428  0.770852  \n",
      "6.0  0.826075  0.832509  0.838849  \n",
      "7.0  0.886491  0.892095  0.897627  \n",
      "8.0  0.939519  0.944483   0.94939  \n",
      "9.0  0.986772  0.991226  0.995635  \n"
     ]
    }
   ],
   "source": [
    "import pandas as pd\n",
    "import numpy as np\n",
    "\n",
    "def create_log_table(base=10):\n",
    "    index = [f\"{i}.0\" for i in range(1,10)]\n",
    "    columns = [f\"0.{j}\" for j in range(10)]\n",
    "    table = pd.DataFrame(index=index,columns=columns)\n",
    "    for i in range(1,10):\n",
    "        for j in range(10):\n",
    "            table.at[f\"{i}.0\",f\"0.{j}\"] = np.log(i + j * 0.1) / np.log(base)\n",
    "    return table\n",
    "\n",
    "log_table = create_log_table()\n",
    "print(log_table)"
   ]
  },
  {
   "cell_type": "code",
   "execution_count": null,
   "id": "b2087e97",
   "metadata": {},
   "outputs": [],
   "source": []
  }
 ],
 "metadata": {
  "kernelspec": {
   "display_name": "Python 3 (ipykernel)",
   "language": "python",
   "name": "python3"
  },
  "language_info": {
   "codemirror_mode": {
    "name": "ipython",
    "version": 3
   },
   "file_extension": ".py",
   "mimetype": "text/x-python",
   "name": "python",
   "nbconvert_exporter": "python",
   "pygments_lexer": "ipython3",
   "version": "3.9.7"
  }
 },
 "nbformat": 4,
 "nbformat_minor": 5
}
