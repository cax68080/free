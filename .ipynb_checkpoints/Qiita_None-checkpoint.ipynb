{
 "cells": [
  {
   "cell_type": "markdown",
   "id": "25235593-109b-4f54-9c0a-8a94a09d9f0b",
   "metadata": {},
   "source": [
    "# Noneオブジェクト"
   ]
  },
  {
   "cell_type": "markdown",
   "id": "ccb7bc36-c2fc-4af1-961e-c6f531b68f70",
   "metadata": {},
   "source": [
    "Noneは値が存在しないことを示すオブジェクトです。\n",
    "関数の戻り値がない場合や変数に値を代入する前の初期値として利用します。"
   ]
  },
  {
   "cell_type": "code",
   "execution_count": 5,
   "id": "d1f6c3ff-7511-4302-85e4-e7e5c278a7b1",
   "metadata": {},
   "outputs": [
    {
     "name": "stdout",
     "output_type": "stream",
     "text": [
      "None\n",
      "<class 'NoneType'>\n"
     ]
    }
   ],
   "source": [
    "#Noneオブジェクトのデータ型\n",
    "a = None\n",
    "print(a)\n",
    "print(type(a))"
   ]
  },
  {
   "cell_type": "code",
   "execution_count": 7,
   "id": "691a346b-4179-40d5-80f8-bb062677a2e4",
   "metadata": {},
   "outputs": [
    {
     "ename": "TypeError",
     "evalue": "unsupported operand type(s) for +: 'NoneType' and 'str'",
     "output_type": "error",
     "traceback": [
      "\u001b[1;31m---------------------------------------------------------------------------\u001b[0m",
      "\u001b[1;31mTypeError\u001b[0m                                 Traceback (most recent call last)",
      "Cell \u001b[1;32mIn[7], line 1\u001b[0m\n\u001b[1;32m----> 1\u001b[0m \u001b[43ma\u001b[49m\u001b[43m \u001b[49m\u001b[38;5;241;43m+\u001b[39;49m\u001b[43m \u001b[49m\u001b[38;5;124;43m\"\u001b[39;49m\u001b[38;5;124;43mstr\u001b[39;49m\u001b[38;5;124;43m\"\u001b[39;49m\n",
      "\u001b[1;31mTypeError\u001b[0m: unsupported operand type(s) for +: 'NoneType' and 'str'"
     ]
    }
   ],
   "source": [
    "# Noneと文字列が結合できるか\n",
    "a + \"str\""
   ]
  },
  {
   "cell_type": "code",
   "execution_count": 15,
   "id": "18acd423-f04e-40dc-a0ab-cfed3e84430c",
   "metadata": {},
   "outputs": [
    {
     "ename": "TypeError",
     "evalue": "unsupported operand type(s) for +: 'NoneType' and 'int'",
     "output_type": "error",
     "traceback": [
      "\u001b[1;31m---------------------------------------------------------------------------\u001b[0m",
      "\u001b[1;31mTypeError\u001b[0m                                 Traceback (most recent call last)",
      "Cell \u001b[1;32mIn[15], line 1\u001b[0m\n\u001b[1;32m----> 1\u001b[0m \u001b[43ma\u001b[49m\u001b[43m \u001b[49m\u001b[38;5;241;43m+\u001b[39;49m\u001b[43m \u001b[49m\u001b[38;5;241;43m1\u001b[39;49m\n",
      "\u001b[1;31mTypeError\u001b[0m: unsupported operand type(s) for +: 'NoneType' and 'int'"
     ]
    }
   ],
   "source": [
    "# Noneと数字を計算できるか\n",
    "a + 1"
   ]
  },
  {
   "cell_type": "code",
   "execution_count": 11,
   "id": "7febc624-cb08-4b11-9d35-9c4a689583d8",
   "metadata": {},
   "outputs": [
    {
     "ename": "TypeError",
     "evalue": "unsupported operand type(s) for +: 'NoneType' and 'NoneType'",
     "output_type": "error",
     "traceback": [
      "\u001b[1;31m---------------------------------------------------------------------------\u001b[0m",
      "\u001b[1;31mTypeError\u001b[0m                                 Traceback (most recent call last)",
      "Cell \u001b[1;32mIn[11], line 2\u001b[0m\n\u001b[0;32m      1\u001b[0m b \u001b[38;5;241m=\u001b[39m \u001b[38;5;28;01mNone\u001b[39;00m\n\u001b[1;32m----> 2\u001b[0m \u001b[43ma\u001b[49m\u001b[43m \u001b[49m\u001b[38;5;241;43m+\u001b[39;49m\u001b[43m \u001b[49m\u001b[43mb\u001b[49m\n",
      "\u001b[1;31mTypeError\u001b[0m: unsupported operand type(s) for +: 'NoneType' and 'NoneType'"
     ]
    }
   ],
   "source": [
    "# None動詞を連結できるか\n",
    "b = None\n",
    "a + b"
   ]
  },
  {
   "cell_type": "code",
   "execution_count": 19,
   "id": "1888d444-167f-4aae-bd29-31a470949356",
   "metadata": {},
   "outputs": [
    {
     "name": "stdout",
     "output_type": "stream",
     "text": [
      "[None]\n",
      "[None, None]\n",
      "2\n"
     ]
    }
   ],
   "source": [
    "list_c = []\n",
    "list_c.append(a)\n",
    "print(list_c)\n",
    "list_c.append(b)\n",
    "print(list_c)\n",
    "print(len(list_c))"
   ]
  },
  {
   "cell_type": "code",
   "execution_count": 78,
   "id": "db44f2af-4eca-4db5-946e-c1fd26b34cc8",
   "metadata": {},
   "outputs": [
    {
     "name": "stdout",
     "output_type": "stream",
     "text": [
      "<class 'set'>\n",
      "{None}\n",
      "{None}\n"
     ]
    }
   ],
   "source": [
    "d = set()\n",
    "print(type(d))\n",
    "d.add(None)\n",
    "print(d)\n",
    "d.add(None)\n",
    "print(d)"
   ]
  },
  {
   "cell_type": "markdown",
   "id": "d66a2617-4486-401f-a3ca-3d0ca338dce9",
   "metadata": {},
   "source": [
    "## Noneに比較演算子はisを使う"
   ]
  },
  {
   "cell_type": "code",
   "execution_count": 57,
   "id": "a87399c1-4356-449f-8762-8139f56ace03",
   "metadata": {},
   "outputs": [],
   "source": [
    "class Example:\n",
    "    def __eq__(self, other):\n",
    "        # すべての比較をTrueとする\n",
    "        return True"
   ]
  },
  {
   "cell_type": "code",
   "execution_count": 63,
   "id": "9acc1d7f-e9fb-4dec-b301-30d576808606",
   "metadata": {},
   "outputs": [
    {
     "name": "stdout",
     "output_type": "stream",
     "text": [
      "xはNoneです\n",
      "<__main__.Example object at 0x0000022F57666EB0>\n"
     ]
    }
   ],
   "source": [
    "x =  Example()\n",
    "if x == None:\n",
    "    print(\"xはNoneです\")\n",
    "else:\n",
    "    print(\"xはNoneではありません\")\n",
    "print(x)"
   ]
  },
  {
   "cell_type": "code",
   "execution_count": 65,
   "id": "b72da078-e481-4c21-8f06-1793b25df508",
   "metadata": {},
   "outputs": [
    {
     "name": "stdout",
     "output_type": "stream",
     "text": [
      "yはNoneではありません\n",
      "<__main__.Example object at 0x0000022F57491580>\n"
     ]
    }
   ],
   "source": [
    "y =  Example()\n",
    "if y is None:\n",
    "    print(\"yはNoneです\")\n",
    "else:\n",
    "    print(\"yはNoneではありません\")\n",
    "print(y)"
   ]
  },
  {
   "cell_type": "code",
   "execution_count": 88,
   "id": "f1edefbd-59cb-4bd5-821f-3252ee309bbe",
   "metadata": {},
   "outputs": [
    {
     "name": "stdout",
     "output_type": "stream",
     "text": [
      "True\n"
     ]
    }
   ],
   "source": [
    "if not None:\n",
    "    print(\"True\")\n",
    "else:\n",
    "    print(\"False\")\n"
   ]
  },
  {
   "cell_type": "code",
   "execution_count": 90,
   "id": "6f9a79c4-7144-4bba-be69-5c000ff020c1",
   "metadata": {},
   "outputs": [
    {
     "name": "stdout",
     "output_type": "stream",
     "text": [
      "None\n",
      "[0, 2, 3, 6, 8]\n"
     ]
    }
   ],
   "source": [
    "l = [0,3,8,6,2]\n",
    "result = l.sort()\n",
    "print(result)\n",
    "print(l)"
   ]
  },
  {
   "cell_type": "code",
   "execution_count": null,
   "id": "316835b3-31e0-402c-af98-1ecf18b45443",
   "metadata": {},
   "outputs": [],
   "source": []
  }
 ],
 "metadata": {
  "kernelspec": {
   "display_name": "Python 3 (ipykernel)",
   "language": "python",
   "name": "python3"
  },
  "language_info": {
   "codemirror_mode": {
    "name": "ipython",
    "version": 3
   },
   "file_extension": ".py",
   "mimetype": "text/x-python",
   "name": "python",
   "nbconvert_exporter": "python",
   "pygments_lexer": "ipython3",
   "version": "3.9.19"
  }
 },
 "nbformat": 4,
 "nbformat_minor": 5
}
